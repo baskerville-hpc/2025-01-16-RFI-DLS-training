{
 "cells": [
  {
   "cell_type": "markdown",
   "id": "56fffec6-ab57-4819-b083-1e2c4d36e637",
   "metadata": {},
   "source": [
    "# Tensorboard Exampel"
   ]
  },
  {
   "cell_type": "code",
   "execution_count": 1,
   "id": "1bd3397f-ea49-4074-8f8c-57325352d8c4",
   "metadata": {},
   "outputs": [],
   "source": [
    "import tensorflow as tf"
   ]
  },
  {
   "cell_type": "code",
   "execution_count": 2,
   "id": "a1900706-b623-41df-9feb-2f815a3101a2",
   "metadata": {},
   "outputs": [],
   "source": [
    "mnist = tf.keras.datasets.mnist\n",
    "(X_train, y_train), (X_test, y_test) = mnist.load_data()\n",
    "X_train, X_test = X_train / 255.0, X_test / 255.0"
   ]
  },
  {
   "cell_type": "code",
   "execution_count": 4,
   "id": "abf19234-4c8e-485e-84ad-e4adb93fc808",
   "metadata": {},
   "outputs": [],
   "source": [
    "model = tf.keras.models.Sequential([\n",
    "   tf.keras.layers.Flatten(input_shape=(28, 28)),\n",
    "   tf.keras.layers.Dense(512, activation='relu'),\n",
    "   tf.keras.layers.Dropout(0.2),\n",
    "   tf.keras.layers.Dense(10, activation='softmax')])"
   ]
  },
  {
   "cell_type": "code",
   "execution_count": 5,
   "id": "f7ad6404-7c67-433f-8a01-ddb42cd50967",
   "metadata": {},
   "outputs": [],
   "source": [
    "model.compile(optimizer='sgd',\n",
    "   loss='sparse_categorical_crossentropy',\n",
    "   metrics=['accuracy'])"
   ]
  },
  {
   "cell_type": "code",
   "execution_count": 6,
   "id": "9665483a-b2d4-4541-9f0c-405299a5a55b",
   "metadata": {},
   "outputs": [],
   "source": [
    "#%load_ext tensorboard\n",
    "log_folder = 'logs'"
   ]
  },
  {
   "cell_type": "code",
   "execution_count": 7,
   "id": "79be3a86-943d-4c44-a8fb-05b094d8c1ef",
   "metadata": {},
   "outputs": [],
   "source": [
    "from tensorflow.keras.callbacks import TensorBoard"
   ]
  },
  {
   "cell_type": "code",
   "execution_count": 8,
   "id": "2aea95d4-db43-42c0-a511-2c9686ea5882",
   "metadata": {},
   "outputs": [
    {
     "name": "stderr",
     "output_type": "stream",
     "text": [
      "2025-01-17 14:10:02.196123: I tensorflow/core/profiler/lib/profiler_session.cc:131] Profiler session initializing.\n",
      "2025-01-17 14:10:02.196185: I tensorflow/core/profiler/lib/profiler_session.cc:146] Profiler session started.\n",
      "2025-01-17 14:10:02.196298: I tensorflow/core/profiler/internal/gpu/cupti_tracer.cc:1614] Profiler found 1 GPUs\n",
      "2025-01-17 14:10:02.461449: I tensorflow/core/profiler/lib/profiler_session.cc:164] Profiler session tear down.\n",
      "2025-01-17 14:10:02.461897: I tensorflow/core/profiler/internal/gpu/cupti_tracer.cc:1748] CUPTI activity buffer flushed\n"
     ]
    }
   ],
   "source": [
    "callbacks = [TensorBoard(log_dir=log_folder,\n",
    "                         histogram_freq=1,\n",
    "                         write_graph=True,\n",
    "                         write_images=True,\n",
    "                         update_freq='epoch',\n",
    "                         profile_batch=2,\n",
    "                         embeddings_freq=1)]"
   ]
  },
  {
   "cell_type": "code",
   "execution_count": 9,
   "id": "d2f82340-9805-418c-904b-4f8bf8f6a7a6",
   "metadata": {},
   "outputs": [
    {
     "name": "stderr",
     "output_type": "stream",
     "text": [
      "2025-01-17 14:10:09.131407: I tensorflow/compiler/mlir/mlir_graph_optimization_pass.cc:185] None of the MLIR Optimization Passes are enabled (registered 2)\n"
     ]
    },
    {
     "name": "stdout",
     "output_type": "stream",
     "text": [
      "Epoch 1/10\n",
      "   1/1500 [..............................] - ETA: 1:02:38 - loss: 2.2957 - accuracy: 0.1875"
     ]
    },
    {
     "name": "stderr",
     "output_type": "stream",
     "text": [
      "2025-01-17 14:10:11.667373: I tensorflow/stream_executor/cuda/cuda_blas.cc:1760] TensorFloat-32 will be used for the matrix multiplication. This will only be logged once.\n",
      "2025-01-17 14:10:11.762387: I tensorflow/core/profiler/lib/profiler_session.cc:131] Profiler session initializing.\n",
      "2025-01-17 14:10:11.762433: I tensorflow/core/profiler/lib/profiler_session.cc:146] Profiler session started.\n"
     ]
    },
    {
     "name": "stdout",
     "output_type": "stream",
     "text": [
      "  28/1500 [..............................] - ETA: 33s - loss: 2.1769 - accuracy: 0.2400"
     ]
    },
    {
     "name": "stderr",
     "output_type": "stream",
     "text": [
      "2025-01-17 14:10:12.117388: I tensorflow/core/profiler/lib/profiler_session.cc:66] Profiler session collecting data.\n",
      "2025-01-17 14:10:12.118072: I tensorflow/core/profiler/internal/gpu/cupti_tracer.cc:1748] CUPTI activity buffer flushed\n",
      "2025-01-17 14:10:12.148142: I tensorflow/core/profiler/internal/gpu/cupti_collector.cc:673]  GpuTracer has collected 64 callback api events and 61 activity events. \n",
      "2025-01-17 14:10:12.151427: I tensorflow/core/profiler/lib/profiler_session.cc:164] Profiler session tear down.\n",
      "2025-01-17 14:10:12.159785: I tensorflow/core/profiler/rpc/client/save_profile.cc:136] Creating directory: logs/train/plugins/profile/2025_01_17_14_10_12\n",
      "\n",
      "2025-01-17 14:10:12.163189: I tensorflow/core/profiler/rpc/client/save_profile.cc:142] Dumped gzipped tool data for trace.json.gz to logs/train/plugins/profile/2025_01_17_14_10_12/bask-pg0308u03a.trace.json.gz\n",
      "2025-01-17 14:10:12.167647: I tensorflow/core/profiler/rpc/client/save_profile.cc:136] Creating directory: logs/train/plugins/profile/2025_01_17_14_10_12\n",
      "\n",
      "2025-01-17 14:10:12.169432: I tensorflow/core/profiler/rpc/client/save_profile.cc:142] Dumped gzipped tool data for memory_profile.json.gz to logs/train/plugins/profile/2025_01_17_14_10_12/bask-pg0308u03a.memory_profile.json.gz\n",
      "2025-01-17 14:10:12.174682: I tensorflow/core/profiler/rpc/client/capture_profile.cc:251] Creating directory: logs/train/plugins/profile/2025_01_17_14_10_12\n",
      "Dumped tool data for xplane.pb to logs/train/plugins/profile/2025_01_17_14_10_12/bask-pg0308u03a.xplane.pb\n",
      "Dumped tool data for overview_page.pb to logs/train/plugins/profile/2025_01_17_14_10_12/bask-pg0308u03a.overview_page.pb\n",
      "Dumped tool data for input_pipeline.pb to logs/train/plugins/profile/2025_01_17_14_10_12/bask-pg0308u03a.input_pipeline.pb\n",
      "Dumped tool data for tensorflow_stats.pb to logs/train/plugins/profile/2025_01_17_14_10_12/bask-pg0308u03a.tensorflow_stats.pb\n",
      "Dumped tool data for kernel_stats.pb to logs/train/plugins/profile/2025_01_17_14_10_12/bask-pg0308u03a.kernel_stats.pb\n",
      "\n"
     ]
    },
    {
     "name": "stdout",
     "output_type": "stream",
     "text": [
      "1500/1500 [==============================] - 11s 6ms/step - loss: 0.6934 - accuracy: 0.8221 - val_loss: 0.3623 - val_accuracy: 0.9026\n",
      "Epoch 2/10\n",
      "1500/1500 [==============================] - 7s 5ms/step - loss: 0.3691 - accuracy: 0.8962 - val_loss: 0.2950 - val_accuracy: 0.9189\n",
      "Epoch 3/10\n",
      "1500/1500 [==============================] - 8s 5ms/step - loss: 0.3117 - accuracy: 0.9125 - val_loss: 0.2618 - val_accuracy: 0.9274\n",
      "Epoch 4/10\n",
      "1500/1500 [==============================] - 7s 5ms/step - loss: 0.2784 - accuracy: 0.9207 - val_loss: 0.2380 - val_accuracy: 0.9337\n",
      "Epoch 5/10\n",
      "1500/1500 [==============================] - 7s 5ms/step - loss: 0.2518 - accuracy: 0.9291 - val_loss: 0.2194 - val_accuracy: 0.9382\n",
      "Epoch 6/10\n",
      "1500/1500 [==============================] - 7s 5ms/step - loss: 0.2306 - accuracy: 0.9358 - val_loss: 0.2039 - val_accuracy: 0.9438\n",
      "Epoch 7/10\n",
      "1500/1500 [==============================] - 8s 5ms/step - loss: 0.2135 - accuracy: 0.9391 - val_loss: 0.1915 - val_accuracy: 0.9482\n",
      "Epoch 8/10\n",
      "1500/1500 [==============================] - 8s 5ms/step - loss: 0.2006 - accuracy: 0.9431 - val_loss: 0.1800 - val_accuracy: 0.9515\n",
      "Epoch 9/10\n",
      "1500/1500 [==============================] - 8s 5ms/step - loss: 0.1876 - accuracy: 0.9467 - val_loss: 0.1710 - val_accuracy: 0.9535\n",
      "Epoch 10/10\n",
      "1500/1500 [==============================] - 8s 5ms/step - loss: 0.1762 - accuracy: 0.9500 - val_loss: 0.1630 - val_accuracy: 0.9557\n"
     ]
    },
    {
     "data": {
      "text/plain": [
       "<keras.callbacks.History at 0x152e7ea1ad00>"
      ]
     },
     "execution_count": 9,
     "metadata": {},
     "output_type": "execute_result"
    }
   ],
   "source": [
    "model.fit(X_train, y_train,\n",
    "          epochs=10,\n",
    "          validation_split=0.2,\n",
    "          callbacks=callbacks)"
   ]
  },
  {
   "cell_type": "markdown",
   "id": "e5abe163-e2e1-4cf0-b6bf-811b491a13b2",
   "metadata": {},
   "source": [
    "## Tensorboard other example"
   ]
  }
 ],
 "metadata": {
  "kernelspec": {
   "display_name": "Python",
   "language": "python",
   "name": "sys_python"
  },
  "language_info": {
   "codemirror_mode": {
    "name": "ipython",
    "version": 3
   },
   "file_extension": ".py",
   "mimetype": "text/x-python",
   "name": "python",
   "nbconvert_exporter": "python",
   "pygments_lexer": "ipython3",
   "version": "3.9.5"
  }
 },
 "nbformat": 4,
 "nbformat_minor": 5
}
